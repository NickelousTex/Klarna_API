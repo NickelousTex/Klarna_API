{
 "cells": [
  {
   "cell_type": "code",
   "execution_count": 430,
   "metadata": {},
   "outputs": [],
   "source": [
    "import os\n",
    "import sys\n",
    "import json\n",
    "import requests"
   ]
  },
  {
   "cell_type": "markdown",
   "metadata": {},
   "source": [
    "#TO DO - load in authorization vs declare, set as enviroment variable, "
   ]
  },
  {
   "cell_type": "code",
   "execution_count": null,
   "metadata": {},
   "outputs": [],
   "source": []
  },
  {
   "cell_type": "code",
   "execution_count": 436,
   "metadata": {},
   "outputs": [],
   "source": [
    "# Reused variables\n",
    "with open('klarna_api.json') as json_file:\n",
    "    config = json.load(json_file)\n",
    "    BASE_URL = config['base_url']\n",
    "    AUTHORIZATION = (config['user_id'], config['password'])\n",
    "    HEADERS = config['headers']"
   ]
  },
  {
   "cell_type": "code",
   "execution_count": null,
   "metadata": {},
   "outputs": [],
   "source": []
  },
  {
   "cell_type": "code",
   "execution_count": 437,
   "metadata": {},
   "outputs": [],
   "source": [
    "# Wrapper methods to help generate usable output\n",
    "def get_method(url, author=AUTHORIZATION, head=HEADERS):\n",
    "    output = requests.get(url, auth=author, headers=head,  stream=True)\n",
    "    output.raise_for_status()\n",
    "    return json.loads(output.text)\n",
    "\n",
    "def post_method(url, payload={}, authorize=AUTHORIZATION, head=HEADERS):\n",
    "    if payload:\n",
    "        output = requests.post(url, data=json.dumps(payload), auth=authorize, headers=head)\n",
    "    else:\n",
    "        output = requests.post(url, auth=authorize, headers=head)\n",
    "    output.raise_for_status()\n",
    "    if output.text:\n",
    "        return json.loads(output.text)\n",
    "    else:\n",
    "        return output"
   ]
  },
  {
   "cell_type": "code",
   "execution_count": 438,
   "metadata": {},
   "outputs": [],
   "source": [
    "instrument_example = {\n",
    "  \"locale\": \"en-US\",\n",
    "  \"purchase_country\": \"US\",\n",
    "  \"purchase_currency\": \"USD\",\n",
    "  \"merchant_reference1\": \"my_customerorderID\",\n",
    "  \"order_amount\": 18000,\n",
    "  \"order_tax_amount\": 2000,\n",
    "  \"order_lines\": [\n",
    "    {\n",
    "      \"reference\": \"KLN-100\",\n",
    "      \"quantity\": 1,\n",
    "      \"unit_price\": 8000,\n",
    "      \"total_amount\": 8000,\n",
    "      \"type\": \"instrument\",\n",
    "      \"name\": \"bagpipe\"\n",
    "    },\n",
    "    {\n",
    "      \"reference\": \"KLN-101\",\n",
    "      \"quantity\": 1,\n",
    "      \"unit_price\": 8000,\n",
    "      \"total_amount\": 8000,\n",
    "      \"type\": \"instrument\",\n",
    "      \"name\": \"drums\"\n",
    "    },\n",
    "    {\n",
    "      \"quantity\": 1,\n",
    "      \"total_amount\": 2000,\n",
    "      \"type\": \"sales_tax\",\n",
    "      \"name\": \"Tax\",\n",
    "      \"unit_price\": 2000\n",
    "    }\n",
    "  ]\n",
    "}"
   ]
  },
  {
   "cell_type": "code",
   "execution_count": 433,
   "metadata": {},
   "outputs": [],
   "source": [
    "klarna_example = {\n",
    "  \"locale\": \"en-US\",\n",
    "  \"purchase_country\": \"US\",\n",
    "  \"purchase_currency\": \"USD\",\n",
    "  \"merchant_reference1\": \"Klarna_customerorderID\",\n",
    "  \"order_amount\": 18000,\n",
    "  \"order_tax_amount\": 2000,\n",
    "  \"order_lines\": [\n",
    "    {\n",
    "      \"reference\": \"KLN-100\",\n",
    "      \"quantity\": 1,\n",
    "      \"unit_price\": 8000,\n",
    "      \"image_url\": \"https://www.klarna.com/example/image/prod.jpg\",\n",
    "      \"total_amount\": 8000,\n",
    "      \"type\": \"physical\",\n",
    "      \"product_url\": \"https://www.klarna.com/example/widget1=prod\",\n",
    "      \"name\": \"Klarna Widget 1\"\n",
    "    },\n",
    "    {\n",
    "      \"reference\": \"KLN-101\",\n",
    "      \"quantity\": 1,\n",
    "      \"unit_price\": 8000,\n",
    "      \"image_url\": \"https://www.klarna.com/example/image/prod.jpg\",\n",
    "      \"total_amount\": 8000,\n",
    "      \"type\": \"physical\",\n",
    "      \"product_url\": \"https://www.klarna.com/example/widget2=prod\",\n",
    "      \"name\": \"Klarna Widget 2\"\n",
    "    },\n",
    "    {\n",
    "      \"quantity\": 1,\n",
    "      \"total_amount\": 2000,\n",
    "      \"type\": \"sales_tax\",\n",
    "      \"name\": \"Tax\",\n",
    "      \"unit_price\": 2000\n",
    "    }\n",
    "  ]\n",
    "}"
   ]
  },
  {
   "cell_type": "markdown",
   "metadata": {},
   "source": [
    "CREATE A SESSION"
   ]
  },
  {
   "cell_type": "code",
   "execution_count": 439,
   "metadata": {},
   "outputs": [],
   "source": [
    "# Create a new session\n",
    "session = post_method('{}/payments/v1/sessions'.format(BASE_URL),  \n",
    "                       payload=klarna_example)"
   ]
  },
  {
   "cell_type": "code",
   "execution_count": 440,
   "metadata": {},
   "outputs": [],
   "source": [
    "# Realize we can get the client token right here, but want to work on get method\n",
    "session_id = session['session_id']"
   ]
  },
  {
   "cell_type": "markdown",
   "metadata": {},
   "source": []
  },
  {
   "cell_type": "code",
   "execution_count": 441,
   "metadata": {},
   "outputs": [],
   "source": [
    "# GET SESSION\n",
    "session = get_method('{}/payments/v1/sessions/{}'.format(BASE_URL, session_id))"
   ]
  },
  {
   "cell_type": "code",
   "execution_count": 442,
   "metadata": {},
   "outputs": [
    {
     "data": {
      "text/plain": [
       "{'purchase_country': 'us',\n",
       " 'purchase_currency': 'usd',\n",
       " 'locale': 'en-US',\n",
       " 'order_amount': 18000,\n",
       " 'order_tax_amount': 2000,\n",
       " 'order_lines': [{'type': 'physical',\n",
       "   'reference': 'KLN-100',\n",
       "   'name': 'Klarna Widget 1',\n",
       "   'quantity': 1,\n",
       "   'unit_price': 8000,\n",
       "   'total_amount': 8000,\n",
       "   'total_discount_amount': 0,\n",
       "   'product_url': 'https://www.klarna.com/example/widget1=prod',\n",
       "   'image_url': 'https://www.klarna.com/example/image/prod.jpg'},\n",
       "  {'type': 'physical',\n",
       "   'reference': 'KLN-101',\n",
       "   'name': 'Klarna Widget 2',\n",
       "   'quantity': 1,\n",
       "   'unit_price': 8000,\n",
       "   'total_amount': 8000,\n",
       "   'total_discount_amount': 0,\n",
       "   'product_url': 'https://www.klarna.com/example/widget2=prod',\n",
       "   'image_url': 'https://www.klarna.com/example/image/prod.jpg'},\n",
       "  {'type': 'sales_tax',\n",
       "   'name': 'Tax',\n",
       "   'quantity': 1,\n",
       "   'unit_price': 2000,\n",
       "   'total_amount': 2000,\n",
       "   'total_discount_amount': 0}],\n",
       " 'merchant_urls': {},\n",
       " 'merchant_reference1': 'Klarna_customerorderID',\n",
       " 'design': 'klarna',\n",
       " 'status': 'incomplete',\n",
       " 'client_token': 'eyJhbGciOiJSUzI1NiIsImtpZCI6IjgyMzA1ZWJjLWI4MTEtMzYzNy1hYTRjLTY2ZWNhMTg3NGYzZCJ9.ewogICJzZXNzaW9uX2lkIiA6ICI0NGI2Y2Q3Ni0yZjc4LTIyYWEtOTE0MC03ZDA2ZTA1YzhlNWQiLAogICJiYXNlX3VybCIgOiAiaHR0cHM6Ly9rbGFybmEtcGF5bWVudHMtbmEucGxheWdyb3VuZC5rbGFybmEuY29tL3BmbXZwIiwKICAiZGVzaWduIiA6ICJrbGFybmEiLAogICJsYW5ndWFnZSIgOiAiZW4iLAogICJwdXJjaGFzZV9jb3VudHJ5IiA6ICJVUyIsCiAgInRyYWNlX2Zsb3ciIDogZmFsc2UsCiAgImVudmlyb25tZW50IiA6ICJwbGF5Z3JvdW5kIiwKICAibWVyY2hhbnRfbmFtZSIgOiAiUGxheWdyb3VuZCBEZW1vIE1lcmNoYW50IiwKICAic2Vzc2lvbl90eXBlIiA6ICJQQVlNRU5UUyIsCiAgImNsaWVudF9ldmVudF9iYXNlX3VybCIgOiAiaHR0cHM6Ly9uYS5wbGF5Z3JvdW5kLmtsYXJuYWV2dC5jb20iLAogICJzY2hlbWUiIDogdHJ1ZSwKICAiZXhwZXJpbWVudHMiIDogWyB7CiAgICAibmFtZSIgOiAiaW4tYXBwLXNkay1jYXJkLXNjYW5uaW5nIiwKICAgICJ2YXJpYXRlIiA6ICJjYXJkLXNjYW5uaW5nLWVuYWJsZSIsCiAgICAicGFyYW1ldGVycyIgOiB7CiAgICAgICJ2YXJpYXRlX2lkIiA6ICJjYXJkLXNjYW5uaW5nLWVuYWJsZSIKICAgIH0KICB9IF0KfQ.KBGOgZWP7TN54xDH36sa6SQ1c2ljfE10R9l1dJas4s6zCdSDwM9jQ87Pi_DvilBMLzJ8JOBnrz3GxrucyDYHe6jcZrRNO6fPV-fWCqMwZ8OUbRixYTw7izrYoGFDWfbMPjkLP8mjhpR01fC5huOd7eU3FPck4xSvKzfy1cJTSREI5wpkPOKARWNZzmmP4tlyO63w-jEVvC8tFySs8bd5OzFyHhHWsrUrtKkbTE_PsBIlOaRRfeOx3XG2TUOZadp6Y3lsLmm0COIpc1Izhcs9Tglcv0k_tMpffOGVaFJts3Y2hCdJi1KJKODT6Mh1HWv4m5fRwWt2NRnn-i6aEHb5Qw',\n",
       " 'expires_at': '2020-09-05T00:08:01.384Z',\n",
       " 'payment_method_categories': [{'identifier': 'pay_over_time',\n",
       "   'name': '4 interest-free installments',\n",
       "   'asset_urls': {'descriptive': 'https://x.klarnacdn.net/payment-method/assets/badges/generic/klarna.svg',\n",
       "    'standard': 'https://x.klarnacdn.net/payment-method/assets/badges/generic/klarna.svg'}}]}"
      ]
     },
     "execution_count": 442,
     "metadata": {},
     "output_type": "execute_result"
    }
   ],
   "source": [
    "session"
   ]
  },
  {
   "cell_type": "code",
   "execution_count": 444,
   "metadata": {},
   "outputs": [
    {
     "data": {
      "text/plain": [
       "'eyJhbGciOiJSUzI1NiIsImtpZCI6IjgyMzA1ZWJjLWI4MTEtMzYzNy1hYTRjLTY2ZWNhMTg3NGYzZCJ9.ewogICJzZXNzaW9uX2lkIiA6ICI0NGI2Y2Q3Ni0yZjc4LTIyYWEtOTE0MC03ZDA2ZTA1YzhlNWQiLAogICJiYXNlX3VybCIgOiAiaHR0cHM6Ly9rbGFybmEtcGF5bWVudHMtbmEucGxheWdyb3VuZC5rbGFybmEuY29tL3BmbXZwIiwKICAiZGVzaWduIiA6ICJrbGFybmEiLAogICJsYW5ndWFnZSIgOiAiZW4iLAogICJwdXJjaGFzZV9jb3VudHJ5IiA6ICJVUyIsCiAgInRyYWNlX2Zsb3ciIDogZmFsc2UsCiAgImVudmlyb25tZW50IiA6ICJwbGF5Z3JvdW5kIiwKICAibWVyY2hhbnRfbmFtZSIgOiAiUGxheWdyb3VuZCBEZW1vIE1lcmNoYW50IiwKICAic2Vzc2lvbl90eXBlIiA6ICJQQVlNRU5UUyIsCiAgImNsaWVudF9ldmVudF9iYXNlX3VybCIgOiAiaHR0cHM6Ly9uYS5wbGF5Z3JvdW5kLmtsYXJuYWV2dC5jb20iLAogICJzY2hlbWUiIDogdHJ1ZSwKICAiZXhwZXJpbWVudHMiIDogWyB7CiAgICAibmFtZSIgOiAiaW4tYXBwLXNkay1jYXJkLXNjYW5uaW5nIiwKICAgICJ2YXJpYXRlIiA6ICJjYXJkLXNjYW5uaW5nLWVuYWJsZSIsCiAgICAicGFyYW1ldGVycyIgOiB7CiAgICAgICJ2YXJpYXRlX2lkIiA6ICJjYXJkLXNjYW5uaW5nLWVuYWJsZSIKICAgIH0KICB9IF0KfQ.KBGOgZWP7TN54xDH36sa6SQ1c2ljfE10R9l1dJas4s6zCdSDwM9jQ87Pi_DvilBMLzJ8JOBnrz3GxrucyDYHe6jcZrRNO6fPV-fWCqMwZ8OUbRixYTw7izrYoGFDWfbMPjkLP8mjhpR01fC5huOd7eU3FPck4xSvKzfy1cJTSREI5wpkPOKARWNZzmmP4tlyO63w-jEVvC8tFySs8bd5OzFyHhHWsrUrtKkbTE_PsBIlOaRRfeOx3XG2TUOZadp6Y3lsLmm0COIpc1Izhcs9Tglcv0k_tMpffOGVaFJts3Y2hCdJi1KJKODT6Mh1HWv4m5fRwWt2NRnn-i6aEHb5Qw'"
      ]
     },
     "execution_count": 444,
     "metadata": {},
     "output_type": "execute_result"
    }
   ],
   "source": [
    "session['client_token']"
   ]
  },
  {
   "cell_type": "markdown",
   "metadata": {},
   "source": [
    "UPDATE STATUS:"
   ]
  },
  {
   "cell_type": "code",
   "execution_count": 359,
   "metadata": {},
   "outputs": [
    {
     "ename": "HTTPError",
     "evalue": "400 Client Error: Bad Request for url: https://api-na.playground.klarna.com/payments/v1/sessions/03b5bb24-10aa-2cae-80c6-9ada0f1acd97",
     "output_type": "error",
     "traceback": [
      "\u001b[0;31m---------------------------------------------------------------------------\u001b[0m",
      "\u001b[0;31mHTTPError\u001b[0m                                 Traceback (most recent call last)",
      "\u001b[0;32m<ipython-input-359-1cb1d375c661>\u001b[0m in \u001b[0;36m<module>\u001b[0;34m\u001b[0m\n\u001b[1;32m      1\u001b[0m status_update = post_method('{}/payments/v1/sessions/{}'.format(BASE_URL, session_id), \n\u001b[0;32m----> 2\u001b[0;31m                               payload=instrument_purchase)\n\u001b[0m",
      "\u001b[0;32m<ipython-input-358-a3b6392ab99a>\u001b[0m in \u001b[0;36mpost_method\u001b[0;34m(url, payload, authorize, head)\u001b[0m\n\u001b[1;32m      7\u001b[0m \u001b[0;32mdef\u001b[0m \u001b[0mpost_method\u001b[0m\u001b[0;34m(\u001b[0m\u001b[0murl\u001b[0m\u001b[0;34m,\u001b[0m \u001b[0mpayload\u001b[0m\u001b[0;34m=\u001b[0m\u001b[0;34m{\u001b[0m\u001b[0;34m}\u001b[0m\u001b[0;34m,\u001b[0m \u001b[0mauthorize\u001b[0m\u001b[0;34m=\u001b[0m\u001b[0mAUTHORIZATION\u001b[0m\u001b[0;34m,\u001b[0m \u001b[0mhead\u001b[0m\u001b[0;34m=\u001b[0m\u001b[0mHEADERS\u001b[0m\u001b[0;34m)\u001b[0m\u001b[0;34m:\u001b[0m\u001b[0;34m\u001b[0m\u001b[0;34m\u001b[0m\u001b[0m\n\u001b[1;32m      8\u001b[0m     \u001b[0moutput\u001b[0m \u001b[0;34m=\u001b[0m \u001b[0mrequests\u001b[0m\u001b[0;34m.\u001b[0m\u001b[0mpost\u001b[0m\u001b[0;34m(\u001b[0m\u001b[0murl\u001b[0m\u001b[0;34m,\u001b[0m \u001b[0mdata\u001b[0m\u001b[0;34m=\u001b[0m\u001b[0mjson\u001b[0m\u001b[0;34m.\u001b[0m\u001b[0mdumps\u001b[0m\u001b[0;34m(\u001b[0m\u001b[0mpayload\u001b[0m\u001b[0;34m)\u001b[0m\u001b[0;34m,\u001b[0m \u001b[0mauth\u001b[0m\u001b[0;34m=\u001b[0m\u001b[0mauthorize\u001b[0m\u001b[0;34m,\u001b[0m \u001b[0mheaders\u001b[0m\u001b[0;34m=\u001b[0m\u001b[0mhead\u001b[0m\u001b[0;34m)\u001b[0m\u001b[0;34m\u001b[0m\u001b[0;34m\u001b[0m\u001b[0m\n\u001b[0;32m----> 9\u001b[0;31m     \u001b[0moutput\u001b[0m\u001b[0;34m.\u001b[0m\u001b[0mraise_for_status\u001b[0m\u001b[0;34m(\u001b[0m\u001b[0;34m)\u001b[0m\u001b[0;34m\u001b[0m\u001b[0;34m\u001b[0m\u001b[0m\n\u001b[0m\u001b[1;32m     10\u001b[0m     \u001b[0;32mreturn\u001b[0m \u001b[0mjson\u001b[0m\u001b[0;34m.\u001b[0m\u001b[0mloads\u001b[0m\u001b[0;34m(\u001b[0m\u001b[0moutput\u001b[0m\u001b[0;34m.\u001b[0m\u001b[0mtext\u001b[0m\u001b[0;34m)\u001b[0m\u001b[0;34m\u001b[0m\u001b[0;34m\u001b[0m\u001b[0m\n",
      "\u001b[0;32m~/Library/Python/3.7/lib/python/site-packages/requests/models.py\u001b[0m in \u001b[0;36mraise_for_status\u001b[0;34m(self)\u001b[0m\n\u001b[1;32m    938\u001b[0m \u001b[0;34m\u001b[0m\u001b[0m\n\u001b[1;32m    939\u001b[0m         \u001b[0;32mif\u001b[0m \u001b[0mhttp_error_msg\u001b[0m\u001b[0;34m:\u001b[0m\u001b[0;34m\u001b[0m\u001b[0;34m\u001b[0m\u001b[0m\n\u001b[0;32m--> 940\u001b[0;31m             \u001b[0;32mraise\u001b[0m \u001b[0mHTTPError\u001b[0m\u001b[0;34m(\u001b[0m\u001b[0mhttp_error_msg\u001b[0m\u001b[0;34m,\u001b[0m \u001b[0mresponse\u001b[0m\u001b[0;34m=\u001b[0m\u001b[0mself\u001b[0m\u001b[0;34m)\u001b[0m\u001b[0;34m\u001b[0m\u001b[0;34m\u001b[0m\u001b[0m\n\u001b[0m\u001b[1;32m    941\u001b[0m \u001b[0;34m\u001b[0m\u001b[0m\n\u001b[1;32m    942\u001b[0m     \u001b[0;32mdef\u001b[0m \u001b[0mclose\u001b[0m\u001b[0;34m(\u001b[0m\u001b[0mself\u001b[0m\u001b[0;34m)\u001b[0m\u001b[0;34m:\u001b[0m\u001b[0;34m\u001b[0m\u001b[0;34m\u001b[0m\u001b[0m\n",
      "\u001b[0;31mHTTPError\u001b[0m: 400 Client Error: Bad Request for url: https://api-na.playground.klarna.com/payments/v1/sessions/03b5bb24-10aa-2cae-80c6-9ada0f1acd97"
     ]
    }
   ],
   "source": [
    "status_update = post_method('{}/payments/v1/sessions/{}'.format(BASE_URL, session_id), \n",
    "                              payload=instrument_purchase)"
   ]
  },
  {
   "cell_type": "code",
   "execution_count": 354,
   "metadata": {},
   "outputs": [
    {
     "data": {
      "text/plain": [
       "'<html>\\r\\n<head><title>401 Authorization Required</title></head>\\r\\n<body>\\r\\n<center><h1>401 Authorization Required</h1></center>\\r\\n<hr><center>openresty</center>\\r\\n</body>\\r\\n</html>\\r\\n'"
      ]
     },
     "execution_count": 354,
     "metadata": {},
     "output_type": "execute_result"
    }
   ],
   "source": [
    "status_update.text"
   ]
  },
  {
   "cell_type": "code",
   "execution_count": 136,
   "metadata": {},
   "outputs": [
    {
     "data": {
      "text/html": [
       "<script>\n",
       "  window.klarnaAsyncCallback = function () {\n",
       "\n",
       "     Klarna.Payments.init({\n",
       "  client_token: 'eyJhbGciOiJSUzI1NiIsImtpZCI6IjgyMzA1ZWJjLWI4MTEtMzYzNy1hYTRjLTY2ZWNhMTg3NGYzZCJ9.ewogICJzZXNzaW9uX2lkIiA6ICJmNWFlZjYxMC1hMGMyLTFhZWUtOWE4OS1jODVhZTAzNmIxOWQiLAogICJiYXNlX3VybCIgOiAiaHR0cHM6Ly9rbGFybmEtcGF5bWVudHMtbmEucGxheWdyb3VuZC5rbGFybmEuY29tL3BheW1lbnRzIiwKICAibGFuZ3VhZ2UiIDogImVuIiwKICAicHVyY2hhc2VfY291bnRyeSIgOiAiR0IiLAogICJ0cmFjZV9mbG93IiA6IGZhbHNlLAogICJlbnZpcm9ubWVudCIgOiAicGxheWdyb3VuZCIsCiAgIm1lcmNoYW50X25hbWUiIDogIlBsYXlncm91bmQgRGVtbyBNZXJjaGFudCIsCiAgInNlc3Npb25fdHlwZSIgOiAiUEFZTUVOVFMiLAogICJjbGllbnRfZXZlbnRfYmFzZV91cmwiIDogImh0dHBzOi8vbmEucGxheWdyb3VuZC5rbGFybmFldnQuY29tIiwKICAiZXhwZXJpbWVudHMiIDogWyB7CiAgICAibmFtZSIgOiAiaW4tYXBwLXNkay1jYXJkLXNjYW5uaW5nIiwKICAgICJwYXJhbWV0ZXJzIiA6IHsKICAgICAgInZhcmlhdGVfaWQiIDogImNhcmQtc2Nhbm5pbmctZW5hYmxlIgogICAgfQogIH0gXQp9.BN-9phXcwVtCnADJgsgN9uvhDPVxNgPNPHbB0i1Hvgg-mbt4VdregTVJdCV8pfqOPSl8PSb6JWv6NSWOBRN_51R73w357mjHTqdCRsahyN891fzZNcsEj3r-OIXO9Ej18iSh1IX4BTWDyKEj2EegEC5dtiRHLhibaDQ5CUcKnzH4bJ75pNbNymUWanFHr8zgeHW3yfUwxZKhrhvXtuwH9_q6GL3B0Afc01qcr6e_YfnTNSyWgPRsiQPeCJ6P-e7lvSGgR719WFbmQ39Kez9B53M6MPFfKdgT3wQOIo7TiH6O7rpvR2McOwga1oTpHIZepJIYN1WqkSzV6fjyAUauYg'\n",
       "})\n",
       "\n",
       "  };\n",
       "</script>\n",
       "<script src=\"https://x.klarnacdn.net/kp/lib/v1/api.js\" async></script>\n"
      ],
      "text/plain": [
       "<IPython.core.display.HTML object>"
      ]
     },
     "metadata": {},
     "output_type": "display_data"
    }
   ],
   "source": [
    "%%HTML\n",
    "<script>\n",
    "  window.klarnaAsyncCallback = function () {\n",
    "\n",
    "     Klarna.Payments.init({\n",
    "  client_token: \n",
    "})\n",
    "\n",
    "  };\n",
    "</script>\n",
    "<script src=\"https://x.klarnacdn.net/kp/lib/v1/api.js\" async></script>"
   ]
  },
  {
   "cell_type": "code",
   "execution_count": 139,
   "metadata": {},
   "outputs": [
    {
     "data": {
      "application/javascript": [
       "Klarna.Payments.init({\n",
       "  client_token: 'eyJhbGciOiJSUzI1NiIsImtpZCI6IjgyMzA1ZWJjLWI4MTEtMzYzNy1hYTRjLTY2ZWNhMTg3NGYzZCJ9.ewogICJzZXNzaW9uX2lkIiA6ICJmNWFlZjYxMC1hMGMyLTFhZWUtOWE4OS1jODVhZTAzNmIxOWQiLAogICJiYXNlX3VybCIgOiAiaHR0cHM6Ly9rbGFybmEtcGF5bWVudHMtbmEucGxheWdyb3VuZC5rbGFybmEuY29tL3BheW1lbnRzIiwKICAibGFuZ3VhZ2UiIDogImVuIiwKICAicHVyY2hhc2VfY291bnRyeSIgOiAiR0IiLAogICJ0cmFjZV9mbG93IiA6IGZhbHNlLAogICJlbnZpcm9ubWVudCIgOiAicGxheWdyb3VuZCIsCiAgIm1lcmNoYW50X25hbWUiIDogIlBsYXlncm91bmQgRGVtbyBNZXJjaGFudCIsCiAgInNlc3Npb25fdHlwZSIgOiAiUEFZTUVOVFMiLAogICJjbGllbnRfZXZlbnRfYmFzZV91cmwiIDogImh0dHBzOi8vbmEucGxheWdyb3VuZC5rbGFybmFldnQuY29tIiwKICAiZXhwZXJpbWVudHMiIDogWyB7CiAgICAibmFtZSIgOiAiaW4tYXBwLXNkay1jYXJkLXNjYW5uaW5nIiwKICAgICJwYXJhbWV0ZXJzIiA6IHsKICAgICAgInZhcmlhdGVfaWQiIDogImNhcmQtc2Nhbm5pbmctZW5hYmxlIgogICAgfQogIH0gXQp9.BN-9phXcwVtCnADJgsgN9uvhDPVxNgPNPHbB0i1Hvgg-mbt4VdregTVJdCV8pfqOPSl8PSb6JWv6NSWOBRN_51R73w357mjHTqdCRsahyN891fzZNcsEj3r-OIXO9Ej18iSh1IX4BTWDyKEj2EegEC5dtiRHLhibaDQ5CUcKnzH4bJ75pNbNymUWanFHr8zgeHW3yfUwxZKhrhvXtuwH9_q6GL3B0Afc01qcr6e_YfnTNSyWgPRsiQPeCJ6P-e7lvSGgR719WFbmQ39Kez9B53M6MPFfKdgT3wQOIo7TiH6O7rpvR2McOwga1oTpHIZepJIYN1WqkSzV6fjyAUauYg'\n",
       "})\n"
      ],
      "text/plain": [
       "<IPython.core.display.Javascript object>"
      ]
     },
     "metadata": {},
     "output_type": "display_data"
    }
   ],
   "source": [
    "%%js\n",
    "\n",
    "Klarna.Payments.init({\n",
    "  client_token: \n",
    "})"
   ]
  },
  {
   "cell_type": "code",
   "execution_count": 141,
   "metadata": {},
   "outputs": [
    {
     "data": {
      "application/javascript": [
       "try {\n",
       "Klarna.Payments.init({\n",
       "    client_token: 'eyJhbGciOiJSUzI1NiIsImtpZCI6IjgyMzA1ZWJjLWI4MTEtMzYzNy1hYTRjLTY2ZWNhMTg3NGYzZCJ9.ewogICJzZXNzaW9uX2lkIiA6ICJmNWFlZjYxMC1hMGMyLTFhZWUtOWE4OS1jODVhZTAzNmIxOWQiLAogICJiYXNlX3VybCIgOiAiaHR0cHM6Ly9rbGFybmEtcGF5bWVudHMtbmEucGxheWdyb3VuZC5rbGFybmEuY29tL3BheW1lbnRzIiwKICAibGFuZ3VhZ2UiIDogImVuIiwKICAicHVyY2hhc2VfY291bnRyeSIgOiAiR0IiLAogICJ0cmFjZV9mbG93IiA6IGZhbHNlLAogICJlbnZpcm9ubWVudCIgOiAicGxheWdyb3VuZCIsCiAgIm1lcmNoYW50X25hbWUiIDogIlBsYXlncm91bmQgRGVtbyBNZXJjaGFudCIsCiAgInNlc3Npb25fdHlwZSIgOiAiUEFZTUVOVFMiLAogICJjbGllbnRfZXZlbnRfYmFzZV91cmwiIDogImh0dHBzOi8vbmEucGxheWdyb3VuZC5rbGFybmFldnQuY29tIiwKICAiZXhwZXJpbWVudHMiIDogWyB7CiAgICAibmFtZSIgOiAiaW4tYXBwLXNkay1jYXJkLXNjYW5uaW5nIiwKICAgICJwYXJhbWV0ZXJzIiA6IHsKICAgICAgInZhcmlhdGVfaWQiIDogImNhcmQtc2Nhbm5pbmctZW5hYmxlIgogICAgfQogIH0gXQp9.BN-9phXcwVtCnADJgsgN9uvhDPVxNgPNPHbB0i1Hvgg-mbt4VdregTVJdCV8pfqOPSl8PSb6JWv6NSWOBRN_51R73w357mjHTqdCRsahyN891fzZNcsEj3r-OIXO9Ej18iSh1IX4BTWDyKEj2EegEC5dtiRHLhibaDQ5CUcKnzH4bJ75pNbNymUWanFHr8zgeHW3yfUwxZKhrhvXtuwH9_q6GL3B0Afc01qcr6e_YfnTNSyWgPRsiQPeCJ6P-e7lvSGgR719WFbmQ39Kez9B53M6MPFfKdgT3wQOIo7TiH6O7rpvR2McOwga1oTpHIZepJIYN1WqkSzV6fjyAUauYg'\n",
       "})\n",
       "} catch (e) {\n",
       "// Handle error.\n",
       "}\n"
      ],
      "text/plain": [
       "<IPython.core.display.Javascript object>"
      ]
     },
     "metadata": {},
     "output_type": "display_data"
    }
   ],
   "source": [
    "%%js\n",
    "try {\n",
    "Klarna.Payments.init({\n",
    "    client_token: \n",
    "} catch (e) {\n",
    "\n",
    "}"
   ]
  },
  {
   "cell_type": "markdown",
   "metadata": {},
   "source": [
    "Getting the SDK to work- after realizing the session creation was the problem \n",
    "VERY exited to see '''show_form: true'''"
   ]
  },
  {
   "cell_type": "markdown",
   "metadata": {},
   "source": [
    "![title](Happy_when_it_works.png)"
   ]
  },
  {
   "cell_type": "markdown",
   "metadata": {},
   "source": [
    "ORDERS MANAGEMENT:"
   ]
  },
  {
   "cell_type": "markdown",
   "metadata": {},
   "source": [
    "CREATE ORDER:"
   ]
  },
  {
   "cell_type": "code",
   "execution_count": 445,
   "metadata": {},
   "outputs": [],
   "source": [
    "AUTHORIZATION_TOKEN = '' # Token from the client side, used to generate the \n",
    "# 'c3b196b6-27b1-26f3-b8ef-ef1c000aa5a1'\n",
    "# \"f0bd1b8b-1d72-246d-b05e-02248e6571df\"\n",
    "# '83b749e4-c0bb-24d3-92e3-049b8256d170'\n",
    "# '62b46a9c-cabd-29d3-b5bc-a7113a625159'"
   ]
  },
  {
   "cell_type": "code",
   "execution_count": 446,
   "metadata": {},
   "outputs": [],
   "source": [
    "order_create = post_method('{}/payments/v1/authorizations/{}/order'.format(BASE_URL, AUTHORIZATION_TOKEN),\n",
    "                          payload=klarna_example)"
   ]
  },
  {
   "cell_type": "code",
   "execution_count": 447,
   "metadata": {},
   "outputs": [
    {
     "data": {
      "text/plain": [
       "{'order_id': '7cb66274-4354-2147-b75a-af1ad3d3ff44',\n",
       " 'fraud_status': 'ACCEPTED',\n",
       " 'authorized_payment_method': {'type': 'slice_it_by_card'}}"
      ]
     },
     "execution_count": 447,
     "metadata": {},
     "output_type": "execute_result"
    }
   ],
   "source": [
    "order_create"
   ]
  },
  {
   "cell_type": "markdown",
   "metadata": {},
   "source": [
    "CANCEL ORDER (Note can not be done once order is captured)"
   ]
  },
  {
   "cell_type": "code",
   "execution_count": 301,
   "metadata": {},
   "outputs": [],
   "source": [
    "order_canceled = requests.post('https://api-na.playground.klarna.com/ordermanagement/v1/orders/{}/cancel'.format('52bcaca0-35bb-2c78-90b4-baa99199cd80'), \n",
    "                       auth=('N104701_f720721d7d66', 'uEWwK2Ziu2pZKdk1'), \n",
    "                       headers=HEADERS)"
   ]
  },
  {
   "cell_type": "code",
   "execution_count": 409,
   "metadata": {},
   "outputs": [
    {
     "data": {
      "text/plain": [
       "'08b266c9-93c9-20b1-80a9-c01be286c2b0'"
      ]
     },
     "execution_count": 409,
     "metadata": {},
     "output_type": "execute_result"
    }
   ],
   "source": [
    "order_create['order_id']"
   ]
  },
  {
   "cell_type": "markdown",
   "metadata": {},
   "source": [
    "GET ORDER"
   ]
  },
  {
   "cell_type": "code",
   "execution_count": 378,
   "metadata": {},
   "outputs": [],
   "source": [
    "get_order = get_method('{}/ordermanagement/v1/orders/{}'.format(BASE_URL, order_create['order_id']))"
   ]
  },
  {
   "cell_type": "markdown",
   "metadata": {},
   "source": [
    "ACKNOWLEDGE ORDER"
   ]
  },
  {
   "cell_type": "code",
   "execution_count": 385,
   "metadata": {},
   "outputs": [],
   "source": [
    "acknowledge_order = post_method('{}/ordermanagement/v1/orders/{}/acknowledge'.format(BASE_URL, \n",
    "                                                                                    order_create['order_id']))"
   ]
  },
  {
   "cell_type": "markdown",
   "metadata": {},
   "source": [
    "CAPTURE ORDER"
   ]
  },
  {
   "cell_type": "code",
   "execution_count": 387,
   "metadata": {},
   "outputs": [],
   "source": [
    "capture_payload = {\n",
    "    \"captured_amount\": 18000,\n",
    "    \"description\": \"captured\",\n",
    "    \"reference\": \"for this id\"\n",
    "#     \"order_lines\": [\n",
    "#         {\n",
    "#             \"reference\": \"75001\",\n",
    "#             \"type\": \"physical\",\n",
    "#             \"quantity\": 1,\n",
    "#             \"quantity_unit\": \"pcs.\",\n",
    "#             \"name\": \"string\",\n",
    "#             \"total_amount\": 0,\n",
    "#             \"unit_price\": 0,\n",
    "#             \"total_discount_amount\": 0,\n",
    "#             \"tax_rate\": 0,\n",
    "#             \"total_tax_amount\": 0,\n",
    "#             \"merchant_data\": \"Some metadata\",\n",
    "#             \"product_url\": \"https://yourstore.example/product/headphones\",\n",
    "#             \"image_url\": \"https://yourstore.example/product/headphones.png\",\n",
    "#             \"product_identifiers\": {\n",
    "#                 \"category_path\": \"Electronics Store > Computers & Tablets > Desktops\",\n",
    "#                 \"global_trade_item_number\": \"735858293167\",\n",
    "#                 \"manufacturer_part_number\": \"BOXNUC5CPYH\",\n",
    "#                 \"brand\": \"Intel\"\n",
    "#             }\n",
    "#         }\n",
    "#     ],\n",
    "#     \"shipping_info\": [\n",
    "#         {\n",
    "#             \"shipping_company\": \"DHL US\",\n",
    "#             \"shipping_method\": \"Home\",\n",
    "#             \"tracking_number\": \"63456415674545679874\",\n",
    "#             \"tracking_uri\": \"http://shipping.example/findmypackage?63456415674545679874\",\n",
    "#             \"return_shipping_company\": \"DHL US\",\n",
    "#             \"return_tracking_number\": \"93456415674545679888\",\n",
    "#             \"return_tracking_uri\": \"http://shipping.example/findmypackage?93456415674545679888\"\n",
    "#         }\n",
    "#     ],\n",
    "#     \"shipping_delay\": 0\n",
    "}\n"
   ]
  },
  {
   "cell_type": "code",
   "execution_count": 410,
   "metadata": {},
   "outputs": [],
   "source": [
    "capture_order = post_method('{}/ordermanagement/v1/orders/{}/captures'.format(BASE_URL,\n",
    "                                                                              order_create['order_id']),\n",
    "                                                                              payload=capture_payload)"
   ]
  },
  {
   "cell_type": "code",
   "execution_count": 411,
   "metadata": {},
   "outputs": [
    {
     "data": {
      "text/plain": [
       "<Response [201]>"
      ]
     },
     "execution_count": 411,
     "metadata": {},
     "output_type": "execute_result"
    }
   ],
   "source": [
    "capture_order"
   ]
  },
  {
   "cell_type": "markdown",
   "metadata": {},
   "source": [
    "REFUND ORDER:"
   ]
  },
  {
   "cell_type": "code",
   "execution_count": 414,
   "metadata": {},
   "outputs": [],
   "source": [
    "refund_info = {\n",
    "    \"refunded_amount\": 400\n",
    "}"
   ]
  },
  {
   "cell_type": "code",
   "execution_count": 415,
   "metadata": {},
   "outputs": [],
   "source": [
    "refunded = post_method('{}/ordermanagement/v1/orders/{}/refunds'.format(BASE_URL, order_create['order_id']),\n",
    "                        payload=refund_info)"
   ]
  },
  {
   "cell_type": "code",
   "execution_count": 416,
   "metadata": {},
   "outputs": [
    {
     "data": {
      "text/plain": [
       "<Response [201]>"
      ]
     },
     "execution_count": 416,
     "metadata": {},
     "output_type": "execute_result"
    }
   ],
   "source": [
    "refunded"
   ]
  },
  {
   "cell_type": "code",
   "execution_count": null,
   "metadata": {},
   "outputs": [],
   "source": []
  },
  {
   "cell_type": "code",
   "execution_count": null,
   "metadata": {},
   "outputs": [],
   "source": []
  }
 ],
 "metadata": {
  "kernelspec": {
   "display_name": "Python 3",
   "language": "python",
   "name": "python3"
  },
  "language_info": {
   "codemirror_mode": {
    "name": "ipython",
    "version": 3
   },
   "file_extension": ".py",
   "mimetype": "text/x-python",
   "name": "python",
   "nbconvert_exporter": "python",
   "pygments_lexer": "ipython3",
   "version": "3.7.3"
  }
 },
 "nbformat": 4,
 "nbformat_minor": 4
}
